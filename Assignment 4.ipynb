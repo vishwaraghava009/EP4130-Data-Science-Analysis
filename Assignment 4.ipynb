{
 "cells": [
  {
   "cell_type": "markdown",
   "id": "f86b5149",
   "metadata": {},
   "source": [
    "# Qno.1"
   ]
  },
  {
   "cell_type": "code",
   "execution_count": 7,
   "id": "f8ae4c67",
   "metadata": {},
   "outputs": [],
   "source": [
    "import numpy as np\n",
    "import matplotlib.pyplot as plt\n",
    "from scipy.optimize import curve_fit\n",
    "import scipy.stats as sp\n",
    "import math"
   ]
  },
  {
   "cell_type": "code",
   "execution_count": 8,
   "id": "45c98118",
   "metadata": {},
   "outputs": [],
   "source": [
    "x = [ 0.42, 0.72, 0. , 0.3 , 0.15,\n",
    "0.09, 0.19, 0.35, 0.4 , 0.54,\n",
    "0.42, 0.69, 0.2 , 0.88, 0.03,\n",
    "0.67, 0.42, 0.56, 0.14, 0.2 ]\n",
    "\n",
    "y = [ 0.33, 0.41, -0.22, 0.01, -0.05,\n",
    "-0.05, -0.12, 0.26, 0.29, 0.39, \n",
    "0.31, 0.42, -0.01, 0.58, -0.2 ,\n",
    "0.52, 0.15, 0.32, -0.13, -0.09 ]\n",
    "\n",
    "sigma_y = [0.1 , 0.1 , 0.1 , 0.1 , 0.1 ,\n",
    "           0.1 , 0.1 , 0.1 , 0.1 , 0.1 ,\n",
    "           0.1 , 0.1 , 0.1 , 0.1 , 0.1 ,\n",
    "           0.1 , 0.1 , 0.1 , 0.1 , 0.1]\n"
   ]
  },
  {
   "cell_type": "code",
   "execution_count": 9,
   "id": "dd547fa6",
   "metadata": {},
   "outputs": [],
   "source": [
    "def linear(x, a, b):\n",
    "    return a*x + b\n",
    "\n",
    "def quadratic(x, a, b, c):\n",
    "    return a*x**2 + b*x + c\n",
    "\n",
    "def cubic(x, a, b, c, d):\n",
    "    return a*x**3 + b*x**2 + c*x + d"
   ]
  },
  {
   "cell_type": "code",
   "execution_count": null,
   "id": "a0c469c3",
   "metadata": {},
   "outputs": [],
   "source": [
    "residuals_linear = y - linear(x, *popt_linear)\n",
    "residuals_quadratic = y - quadratic(x, *popt_quadratic)\n",
    "residuals_cubic = y - cubic(x, *popt_cubic)"
   ]
  },
  {
   "cell_type": "code",
   "execution_count": null,
   "id": "6ef5966a",
   "metadata": {},
   "outputs": [],
   "source": [
    "n = len(x)\n",
    "k_linear = 2\n",
    "k_quadratic = 3\n",
    "k_cubic = 4\n",
    "aic_linear = n * np.log(np.sum(residuals_linear**2) / n) + 2 * k_linear\n",
    "aic_quadratic = n * np.log(np.sum(residuals_quadratic**2) / n) + 2 * k_quadratic\n",
    "aic_cubic = n * np.log(np.sum(residuals_cubic**2) / n) + 2 * k_cubic\n",
    "bic_linear = n * np.log(np.sum(residuals_linear**2) / n) + np.log(n) * k_linear\n",
    "bic_quadratic = n * np.log(np.sum(residuals_quadratic**2) / n) + np.log(n) * k_quadratic\n",
    "bic_cubic = n * np.log(np.sum(residuals_cubic**2) / n) + np.log(n) * k_cubic\n"
   ]
  },
  {
   "cell_type": "code",
   "execution_count": null,
   "id": "9dc74953",
   "metadata": {},
   "outputs": [],
   "source": [
    "print(\"AIC for linear: \", aic_linear)\n",
    "print(\"AIC for quadratic: \", aic_quadratic)\n",
    "print(\"AIC for cubic: \", aic_cubic)\n",
    "print(\"BIC for linear: \", bic_linear)\n",
    "print(\"BIC for quadratic: \", bic_quadratic)\n",
    "print(\"BIC for cubic : \", bic_cubic)"
   ]
  },
  {
   "cell_type": "markdown",
   "id": "9200562c",
   "metadata": {},
   "source": [
    "# Qno.2"
   ]
  },
  {
   "cell_type": "markdown",
   "id": "fe32def9",
   "metadata": {},
   "source": [
    "Research paper I used is \"A new method for estimating the heliospheric magnetic field magnitude from single spacecraft measurements\" by O. Alexandrova, et al. published in Physical Review E in 2009, that uses the Kolmogorov-Smirnov (K-S) test. https://journals.aps.org/pre/abstract/10.1103/PhysRevE.80.026405"
   ]
  },
  {
   "cell_type": "markdown",
   "id": "e2c34e52",
   "metadata": {},
   "source": [
    "In this paper, the authors proposed a new method for estimating the magnitude of the heliospheric magnetic field from measurements of the magnetic field made by a single spacecraft. To validate their method, they compared the distribution of the magnetic field magnitude obtained from their method to the distribution of the magnetic field magnitude obtained from a more traditional method that requires measurements from two spacecraft."
   ]
  },
  {
   "cell_type": "markdown",
   "id": "caf804ad",
   "metadata": {},
   "source": [
    "To test the significance of the difference between the two distributions, the authors used the K-S test. They computed the K-S statistic and the associated p-value and found that the p-value was below 0.05, which indicates that the two distributions are significantly different at the 95% confidence level. Based on this result, the authors concluded that their method provides a better estimate of the heliospheric magnetic field magnitude than the traditional method that requires measurements from two spacecraft."
   ]
  },
  {
   "cell_type": "markdown",
   "id": "1399dcef",
   "metadata": {},
   "source": [
    "From my analysis, it appears that the K-S test was used appropriately in this paper. The authors used the K-S test to test the significance of the difference between two distributions, which is a valid use of the test. Furthermore, they reported the K-S statistic and the associated p-value, which allows the reader to assess the significance of the difference between the two distributions. Therefore, I did not find any indication that the K-S test was used incorrectly in this paper"
   ]
  },
  {
   "cell_type": "markdown",
   "id": "128b6460",
   "metadata": {},
   "source": [
    "# Qno.3"
   ]
  },
  {
   "cell_type": "code",
   "execution_count": 1,
   "id": "416b557e",
   "metadata": {},
   "outputs": [],
   "source": [
    "import scipy.stats as sp"
   ]
  },
  {
   "cell_type": "code",
   "execution_count": 3,
   "id": "bd19d6a9",
   "metadata": {},
   "outputs": [],
   "source": [
    "p1 = 1.7E-9\n",
    "p2 = 2E-7"
   ]
  },
  {
   "cell_type": "code",
   "execution_count": 9,
   "id": "202783ce",
   "metadata": {
    "scrolled": true
   },
   "outputs": [],
   "source": [
    "signi1 = sp.norm.isf(p1)\n",
    "signi2 = sp.norm.isf(p2)"
   ]
  },
  {
   "cell_type": "code",
   "execution_count": 10,
   "id": "58fcd6e8",
   "metadata": {},
   "outputs": [],
   "source": [
    "v = 67\n",
    "chi2_value = 65.2\n",
    "p3 = 1 - sp.chi2(v).cdf(chi2_value)"
   ]
  },
  {
   "cell_type": "code",
   "execution_count": 11,
   "id": "a3bfbf7d",
   "metadata": {},
   "outputs": [
    {
     "name": "stdout",
     "output_type": "stream",
     "text": [
      "Significance in terms of no.of sigmas of the Higgs boson discovery claim is 5.911017938341624\n",
      "significance in terms of no of sigmas of LIGO discovery of GW150914 claim is 5.068957749717791\n",
      "The chisquare goodness of fit is 0.5394901931099038\n"
     ]
    }
   ],
   "source": [
    "print(\"Significance in terms of no.of sigmas of the Higgs boson discovery claim is {}\".format(signi1))\n",
    "print(\"significance in terms of no of sigmas of LIGO discovery of GW150914 claim is {}\".format(signi2))\n",
    "print(\"The chisquare goodness of fit is {}\".format(p3))"
   ]
  }
 ],
 "metadata": {
  "kernelspec": {
   "display_name": "Python 3 (ipykernel)",
   "language": "python",
   "name": "python3"
  },
  "language_info": {
   "codemirror_mode": {
    "name": "ipython",
    "version": 3
   },
   "file_extension": ".py",
   "mimetype": "text/x-python",
   "name": "python",
   "nbconvert_exporter": "python",
   "pygments_lexer": "ipython3",
   "version": "3.10.8"
  }
 },
 "nbformat": 4,
 "nbformat_minor": 5
}
